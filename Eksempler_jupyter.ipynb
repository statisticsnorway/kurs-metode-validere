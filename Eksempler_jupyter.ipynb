{
 "cells": [
  {
   "cell_type": "markdown",
   "id": "cf0df0cc-a8ed-421d-9854-b43ce9f5320a",
   "metadata": {},
   "source": [
    "# Dette er eksmpler til kurset i validere og kontrollere "
   ]
  },
  {
   "cell_type": "code",
   "execution_count": null,
   "id": "e8584927-52df-401f-a69f-e298fe159bc3",
   "metadata": {},
   "outputs": [],
   "source": [
    "#Laster ned pakken med funksjoner\n",
    "library(validate)"
   ]
  },
  {
   "cell_type": "code",
   "execution_count": null,
   "id": "c60f4ea5-aae7-4170-b5ab-67f51e4a512d",
   "metadata": {},
   "outputs": [],
   "source": [
    "#Hente data\n",
    "load(\"kirkedata.RData\")\n",
    "head(kirkedata)"
   ]
  },
  {
   "cell_type": "code",
   "execution_count": null,
   "id": "ac6fa925-dda0-4e7c-b866-17e254eba1df",
   "metadata": {},
   "outputs": [],
   "source": [
    "#Skriver de logiske kontrollene\n",
    "regler<-validator( konfirmanter>0,\n",
    "              konfirmanter<=personer15, \n",
    "              konfirmanter_1<=personer15_1)\n",
    "regler"
   ]
  },
  {
   "cell_type": "code",
   "execution_count": null,
   "id": "543a0ec3-50bc-4752-b58e-2bdbf0b94f3b",
   "metadata": {},
   "outputs": [],
   "source": [
    "#Kjører kontrollene\n",
    "cf<-confront(kirkedata,regler,key=\"region\")\n"
   ]
  },
  {
   "cell_type": "code",
   "execution_count": null,
   "id": "76a59e3b-6e86-4bce-8de3-f400076d1fb6",
   "metadata": {},
   "outputs": [],
   "source": [
    "#Oppsummering av kontrollen\n",
    "summary(cf)\n"
   ]
  },
  {
   "cell_type": "code",
   "execution_count": null,
   "id": "c61570b4-ac8d-4017-95a9-fe75cea2cbe6",
   "metadata": {},
   "outputs": [],
   "source": [
    "#Indikatorer for kontrollene\n",
    "aggregate(cf)\n"
   ]
  },
  {
   "cell_type": "code",
   "execution_count": null,
   "id": "25e84a37-6d69-4a1c-9aeb-83c94fe489f7",
   "metadata": {},
   "outputs": [],
   "source": [
    "#Figur av kontrollene\n",
    "plot(cf, main=\"Konfirmant-datasett, logiske feil\")\n"
   ]
  },
  {
   "cell_type": "code",
   "execution_count": null,
   "id": "c289df4e-dec9-4271-8b21-c1835945945a",
   "metadata": {},
   "outputs": [],
   "source": [
    "#Printer ut outlierne\n",
    "resultat<-as.data.frame(cf)\n",
    "\n",
    "outlier1<-resultat[resultat$value==\"FALSE\",]#Selekterer ut de som feilet\n",
    "\n",
    "outlier <- na.omit(outlier1)#Selekterer ut de som ikke er uoppgitt (NA)\n",
    "\n",
    "outlier[1:5,]#Printer ut de 5 første outlierne\n"
   ]
  },
  {
   "cell_type": "code",
   "execution_count": null,
   "id": "c053708b-93e1-49c3-b173-84e03f230f2f",
   "metadata": {},
   "outputs": [],
   "source": [
    "#Lager indikator-datasett med TRUE/FALSE på kontrollene som er slått ut og setter det sammen med inputdata\n",
    "kirke_res<-as.data.frame(values(cf))\n",
    "kirkedata_kon <-cbind(kirkedata,kirke_res)\n",
    "head(kirkedata_kon)"
   ]
  },
  {
   "cell_type": "code",
   "execution_count": null,
   "id": "4d261dcf-364b-4aa5-b3e1-597d28fe88ae",
   "metadata": {},
   "outputs": [],
   "source": [
    "# set properties\n",
    "names(regler)[1] <- \"reg1\"\n",
    "label(regler)[1] <- \"konfirmanter positive\"\n",
    "description(regler)[1] <- \"Antall konfirmanter må være et positivt tall\"\n",
    "names(regler)[2] <- \"reg2\"\n",
    "label(regler)[2] <- \"Færre enn 15-åringer\"\n",
    "description(regler)[2] <- \"Antall konfirmanter må være færre enn antall 15åringer\"\n",
    "names(regler)[3] <- \"reg3\"\n",
    "label(regler)[3] <- \"Færre enn 15-åringer\"\n",
    "description(regler)[3] <- \"Antall konfirmanter må være færre enn antall 15åringer\"\n",
    "\n",
    "cf<-confront(kirkedata,regler,key=\"region\")\n",
    "\n",
    "summary(cf)\n",
    "plot(cf)"
   ]
  },
  {
   "cell_type": "code",
   "execution_count": null,
   "id": "4d55f093-1f1d-4b2b-877f-2f98d5a5e03b",
   "metadata": {},
   "outputs": [],
   "source": [
    "# Kontroll av kategoriske verdier med Klass\n",
    "library(klassR)\n",
    "\n",
    "#Henter klassifikasjon for kommune med gyldighetsdato\n",
    "sn <- GetKlass(klass = 131, date = \"2019-01-01\") \n",
    "\n",
    "#Trekker ut selve koden for kommunene og legger det i en vektor \n",
    "komliste<-as.vector(sn[,c(\"code\")])\n",
    "\n",
    "#Oppsett av regler\n",
    "regler<-validator( region %in% komliste)\n",
    "\n",
    "#Kjøre kontroller\n",
    "cf<-confront(kirkedata,regler,key=\"region\")\n",
    "\n",
    "#Oppsummering av kontrollene\n",
    "summary(cf)\n",
    "plot(cf)"
   ]
  },
  {
   "cell_type": "markdown",
   "id": "d53849ae-685c-499f-9ff5-096efe954d48",
   "metadata": {},
   "source": [
    "# Kontrollmetoder "
   ]
  },
  {
   "cell_type": "code",
   "execution_count": null,
   "id": "41c81f78-6708-4050-89ae-0d36b2d5ea44",
   "metadata": {},
   "outputs": [],
   "source": [
    "#pakker\n",
    "library(Kostra) \n",
    "library(plotly) "
   ]
  },
  {
   "cell_type": "markdown",
   "id": "53d63f1d-70cc-4e30-94a9-d839335b51d8",
   "metadata": {},
   "source": [
    "### Tusenfeil"
   ]
  },
  {
   "cell_type": "code",
   "execution_count": null,
   "id": "c6a4c60b-9901-4694-97d9-23b09805eba3",
   "metadata": {},
   "outputs": [],
   "source": [
    "load(\"kirkedata_0.RData\")\n",
    "\n",
    "\n",
    "####Tusenfeil\n",
    "\n",
    "tusres<-ThError(data = kirkedata_0, id = \"region\", x1 = \"konfirmanter\", x2 = \"konfirmanter_1\", ll = -0.5, ul = 0.5)\n",
    "\n",
    "#Plotter punktene, med forklaringer på aksene og tittel\n",
    "fig1 <- plot_ly(data = tusres,x= ~x1, y=~diffLog10, type =\"scatter\", split = ~outlier,mode =\"markers\",\n",
    "                text = paste(\"<br><br>Id:  \",tusres$id, \"<br><br>Verdi i år:  \", tusres$x1,\"<br>Verdi i fjor:\", tusres$x2 ),            \n",
    "                hovertemplate = paste( \"<b>%{text}<br>\", \"Logaritmen til differansen: %{y:}<br>\", \"<extra></extra>\" )              )   %>% \n",
    "  layout(title = \"Tusenfeil\", xaxis = list(title = \"Konfirmanter\"), yaxis = list(title = \"logaritmen til differansen\"), legend=list(title=list(text='Outlier:'))) %>%\n",
    "    add_trace(x = ~x1, y=~upperLimit,inherit = FALSE, name = 'Øvre grense' , mode=\"lines\", type=\"scatter\")  %>% \n",
    "  add_trace(x = ~x1, y=~lowerLimit,inherit = FALSE, name = 'Nedre grense',mode=\"lines\", type=\"scatter\") \n",
    "fig1\n"
   ]
  },
  {
   "cell_type": "markdown",
   "id": "95755659-1367-4f97-aa49-46899375b7a8",
   "metadata": {},
   "source": [
    "### HB-metoden"
   ]
  },
  {
   "cell_type": "code",
   "execution_count": null,
   "id": "802e4adc-10bc-4435-8cc6-0f9d57d2fe93",
   "metadata": {},
   "outputs": [],
   "source": [
    "####HB-funksjonen\n",
    "hbres <- Hb(data = kirkedata_0, id = \"region\", x1 = \"konfirmanter\", x2 = \"konfirmanter_1\",pC=8,pU=0.75,pA=0.05)\n",
    "\n",
    "#Plotter funksjonen\n",
    "hbres<-hbres[order(hbres$maxX),]\n",
    "\n",
    "#Plotter punktene, med forklaringer på aksene og tittel\n",
    "fig2 <- plot_ly(data = hbres,x= ~maxX, y=~ratio, type =\"scatter\",split = ~outlier, mode =\"markers\",\n",
    "                text = paste(\"<br><br>Id:  \",hbres$id, \"<br><br>Verdi i år:  \", hbres$x1,\"<br>Verdi i fjor:\", hbres$x2 ),            \n",
    "                hovertemplate = paste( \"<b>%{text}<br>\", \"Forholdstallet: %{y:}<br>\", \"<extra></extra>\" )   \n",
    "                )  %>% \n",
    "        layout(title = \"HB metoden konfirmanter i kommunen\",\n",
    "                      xaxis = list(title = \"Maks antall Konfirmanter\"),\n",
    "                      yaxis = list(title = \"Forholdstallet\"),\n",
    "                     legend=list(title=list(text='Outlier:'))\n",
    "               ) %>% \n",
    "        add_trace(x = ~maxX, y=~upperLimit, name = 'Øvre grense' , mode=\"lines\", inherit = FALSE, type=\"scatter\")  %>% \n",
    "        add_trace(x = ~maxX, y=~lowerLimit, name = 'Nedre grense',mode=\"lines\", inherit = FALSE, type=\"scatter\") \n",
    "fig2"
   ]
  },
  {
   "cell_type": "markdown",
   "id": "6ae341e7-45c0-4124-9e6f-552432ecfac8",
   "metadata": {},
   "source": [
    "### Kvartilmetode\n"
   ]
  },
  {
   "cell_type": "code",
   "execution_count": null,
   "id": "e94165b8-ecd3-4350-9bff-2dfd949f8a3a",
   "metadata": {},
   "outputs": [],
   "source": [
    "####Kvartilmetode\n",
    "qres <- Quartile(data = kirkedata_0, id = \"region\", x1 = \"konfirmanter\", y1 = \"personer15\",pKL=2,pKU=2)\n",
    "\n",
    "# ser på outlierne\n",
    "qres[qres$outlier==1,c(\"id\",\"x1\",\"y1\",\"ratio\",\"ratioAll\")]\n",
    "\n",
    " \n",
    "#lage grafikk av metoden\n",
    "fig3 <- plot_ly(data = qres,x= ~ratio, type =\"histogram\", name=\"observasjon\")  %>% \n",
    "        layout(title = \"Kvartilmetode andelen konfirmanter i kommunen\",\n",
    "               xaxis = list(title = \"Andel konfirmanter\"),\n",
    "               yaxis = list(title = \"Antall kommuner\")\n",
    "               )%>% \n",
    "      add_segments(x = ~upperLimit, xend=~upperLimit,y=0, yend=50, name = 'Øvre grense' ) %>% \n",
    "      add_segments(x = ~lowerLimit, xend=~lowerLimit,y=0, yend=50,name = 'Øvre grense' ) \n",
    "      \n",
    "fig3"
   ]
  },
  {
   "cell_type": "code",
   "execution_count": null,
   "id": "571dc992-324a-4a39-9d1e-6697f1b6600d",
   "metadata": {},
   "outputs": [],
   "source": [
    "### Robust regresjon"
   ]
  },
  {
   "cell_type": "code",
   "execution_count": null,
   "id": "69cbf904-8e4b-49e6-82f8-f072a0703431",
   "metadata": {},
   "outputs": [],
   "source": [
    "\n",
    "regres <- OutlierRegressionMicro(data= kirkedata_0, idName =\"region\" , strataName = NULL,\n",
    "                                 xName =\"personer15\" , yName =\"konfirmanter\" ,\n",
    "                                 method = \"ordinary\", limitModel = 5, limitIterate = 5)\n",
    "\n",
    "\n",
    "#Plotter punktene, med forklaringer på aksene og tittel\n",
    "\n",
    "fig4 <- plot_ly(data = regres,x= ~x, y=~y, type =\"scatter\", mode =\"markers\", split = ~outlier,\n",
    "                text = paste(\"<br><br>Id:  \",regres$id, \"<br><br>15 åringer :  \", regres$x,\"<br>Konfirmanter:\", regres$y ),            \n",
    "                hovertemplate = paste( \"<b>%{text}<br>\" )  \n",
    "                     )  %>% \n",
    "  layout(title = \"Robust regresjon konfirmanter mot 15-åringer i kommunen\",\n",
    "         xaxis = list(title = \"Antall 15-åringer\"),\n",
    "         yaxis = list(title = \"Antall Konfirmanter\"),\n",
    "         legend=list(title=list(text='Outlier:'))\n",
    "         ) %>% \n",
    "  add_lines(x = ~x, y=~yHat, name=\"Linje\", inherit = FALSE, type=\"scatter\")  \n",
    "fig4\n",
    "\n",
    "\n",
    "\n",
    "# ser på outlierne\n",
    "regres[regres$outlier==1,c(\"id\",\"x\",\"y\",\"rStud\")]"
   ]
  },
  {
   "cell_type": "markdown",
   "id": "5184c331-fbca-476f-a78e-76f233fd59bd",
   "metadata": {},
   "source": [
    "### Rangering, innflytelse på totalen"
   ]
  },
  {
   "cell_type": "code",
   "execution_count": null,
   "id": "8ec079bf-9c9c-479f-9258-9463ac258904",
   "metadata": {},
   "outputs": [],
   "source": [
    "################# Innflytelse på totalen ###################################\n",
    "rankres<-Rank2NumVar(data=kirkedata_0, idVar= \"region\", xVar=\"konfirmanter_1\", yVar= \"konfirmanter\", \n",
    "                     strataVar = NULL, antall = 10,grense = NULL, identiske = FALSE)\n",
    "rankres\n"
   ]
  },
  {
   "cell_type": "code",
   "execution_count": null,
   "id": "df28e8e9-f1ef-443e-a275-eb3299406245",
   "metadata": {},
   "outputs": [],
   "source": [
    "### Differansen, innflytelse på endringen"
   ]
  },
  {
   "cell_type": "code",
   "execution_count": null,
   "id": "14db4f5c-7994-484f-8dea-e54581198efd",
   "metadata": {},
   "outputs": [],
   "source": [
    "\n",
    "#kjøre metoden med satte parametre\n",
    "diffres<- Diff2NumVar(data=kirkedata_0, idVar= \"region\", xVar=\"konfirmanter_1\", yVar=\"konfirmanter\", \n",
    "                      strataVar = , antall = 10, grense = NULL, zVar = NULL, kommentarVar = NULL)\n",
    "\n",
    "\n",
    "diffres[,c(\"id\",\"x\",\"y\",\"Diff\",\"DiffProsAvTotx\") ]\n"
   ]
  },
  {
   "cell_type": "markdown",
   "id": "597dee15-88cf-432b-97f7-6baef55a33ec",
   "metadata": {},
   "source": [
    "### Aggragat sammenligning"
   ]
  },
  {
   "cell_type": "code",
   "execution_count": null,
   "id": "dfb06dc2-f1cd-41e8-859d-ca204f251dfd",
   "metadata": {},
   "outputs": [],
   "source": [
    "#kjøre metoden med satte parametre\n",
    "aggres<- AggrSml2NumVar(data=kirkedata_0, xVar=\"konfirmanter_1\", yVar=\"konfirmanter\", \n",
    "                        strataVar = \"kostragr\", identiske = FALSE)\n",
    "aggres\n",
    "\n",
    "fig5 <- plot_ly(data=aggres, x = ~strata,  y = ~Sumx, name = \"Konfirmanter forrige år\", type = \"bar\") %>% \n",
    "        add_trace(y = ~Sumy, name = 'Konfirmanter i år')\n",
    "fig5\n",
    "\n",
    "fig6 <- plot_ly(data=aggres, x =~strata ,  y = ~Diff, type = \"bar\")\n",
    "  \n",
    "fig6\n",
    "\n"
   ]
  },
  {
   "cell_type": "code",
   "execution_count": null,
   "id": "d0131c0d-dbf9-4d15-b51e-0277b6f83475",
   "metadata": {},
   "outputs": [],
   "source": []
  }
 ],
 "metadata": {
  "kernelspec": {
   "display_name": "R",
   "language": "R",
   "name": "ir"
  },
  "language_info": {
   "codemirror_mode": "r",
   "file_extension": ".r",
   "mimetype": "text/x-r-source",
   "name": "R",
   "pygments_lexer": "r",
   "version": "4.1.3"
  }
 },
 "nbformat": 4,
 "nbformat_minor": 5
}
