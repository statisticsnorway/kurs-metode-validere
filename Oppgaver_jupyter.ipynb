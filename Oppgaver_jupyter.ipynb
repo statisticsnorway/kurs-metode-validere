{
 "cells": [
  {
   "cell_type": "markdown",
   "id": "91129ea6-173f-413d-8d6a-da6966d5e997",
   "metadata": {},
   "source": [
    "# Kurs i kontrollfunksjoner\n",
    "\n",
    "Dette er et kurs i kontrollfunksjoner. Pakken validate skal brukes til å sette opp regler, kjøre kontroller og analysere resultater."
   ]
  },
  {
   "cell_type": "markdown",
   "id": "24330cb9-a536-42f2-9676-2109a1c62851",
   "metadata": {},
   "source": [
    "### R-pakker som skal brukes "
   ]
  },
  {
   "cell_type": "code",
   "execution_count": null,
   "id": "a5402cee-7a9c-4ed2-b787-6fb1a534e2d7",
   "metadata": {},
   "outputs": [],
   "source": [
    "library(validate)\n",
    "library(klassR)\n",
    "library(Kostra)\n",
    "library(plotly)"
   ]
  },
  {
   "cell_type": "markdown",
   "id": "855e33eb-abec-4df7-ad52-5ffce39c98dc",
   "metadata": {},
   "source": [
    "# Oppgaver valideing \n",
    "Oppgave 1. Last inn datasettet kirkedata.R og se på datasettet\n",
    "\n",
    "Variabler på datasettet:\n",
    "* region - kommune nummer\n",
    "* Tid - år for statistkken\n",
    "* dopte - antall døpte i kommunen\n",
    "* fodde - antall fødte i kommunen\n",
    "* konfirmanter - antall konfirmanter i kommunen\n",
    "* personer15 - antall personer som er 15 år\n",
    "* Tid_1 - forrige år\n",
    "* dopte - antall døpte i kommunen forrige år\n",
    "* fodde - antall fødte i kommunen forrige år\n",
    "* konfirmanter - antall konfirmanter i kommunen forrige år\n",
    "* personer15 - antall personer som er 15 år forrige år\n",
    "* name - navn på kommunen\n",
    "* kostragr - kommuneinndeling brukt i kostra"
   ]
  },
  {
   "cell_type": "code",
   "execution_count": null,
   "id": "d9a10014-8110-4d09-bf79-1417a6062e6a",
   "metadata": {},
   "outputs": [],
   "source": []
  },
  {
   "cell_type": "markdown",
   "id": "713e480a-fc9d-46cc-b420-717fdc586ec9",
   "metadata": {},
   "source": [
    "Oppgave 2. Sett opp noen kontroller for antall døpte"
   ]
  },
  {
   "cell_type": "code",
   "execution_count": null,
   "id": "9caff8c7-dfe2-4e43-80ab-6f379fce87a7",
   "metadata": {},
   "outputs": [],
   "source": []
  },
  {
   "cell_type": "markdown",
   "id": "c456b8d5-5766-46f2-98df-e9b1c8f5c8f4",
   "metadata": {},
   "source": [
    "Oppgave 3. Kjør kontrollene på datasettet kirkedata"
   ]
  },
  {
   "cell_type": "code",
   "execution_count": null,
   "id": "8adf1c75-7496-47c5-9bbc-da360e395ff3",
   "metadata": {},
   "outputs": [],
   "source": []
  },
  {
   "cell_type": "markdown",
   "id": "26ba6461-cbdb-49c9-a3a7-90ddae254396",
   "metadata": {},
   "source": [
    "Oppgave 4. Analyser kontrollene"
   ]
  },
  {
   "cell_type": "code",
   "execution_count": null,
   "id": "b6443fd7-e7b0-4934-8587-287c268c0388",
   "metadata": {},
   "outputs": [],
   "source": []
  },
  {
   "cell_type": "markdown",
   "id": "5f7c9b82-9da1-484b-afdf-786d5ff81284",
   "metadata": {},
   "source": [
    "Ekstra oppgave. Last kommunelista ned fra Klass og kontroller at det er gyldige kommuner"
   ]
  },
  {
   "cell_type": "code",
   "execution_count": null,
   "id": "6d39a7ea-6288-42b9-9b62-7fc7a31b1ee5",
   "metadata": {},
   "outputs": [],
   "source": []
  },
  {
   "cell_type": "markdown",
   "id": "0278cb9c-4431-4c9f-8b8a-de41b507050e",
   "metadata": {},
   "source": [
    "# Kontrollfunksjoner Kostra-pakken"
   ]
  },
  {
   "cell_type": "markdown",
   "id": "f9e268ad-c3d6-43ec-b150-de8366b92fb3",
   "metadata": {},
   "source": [
    "Oppgave 5  Last inn datasettet kirkedata_0.R"
   ]
  },
  {
   "cell_type": "code",
   "execution_count": null,
   "id": "cc8852f5-5187-4ff4-8328-fd93299ebff1",
   "metadata": {},
   "outputs": [],
   "source": []
  },
  {
   "cell_type": "markdown",
   "id": "b0453900-f5e0-49ad-9617-91952a187880",
   "metadata": {},
   "source": [
    "Oppgave 6 Sjekk om det er tusedenfeil med funksjoen ThError i rapportering av antall døpte.\n",
    "Lag figurer eller print ut resulatet "
   ]
  },
  {
   "cell_type": "code",
   "execution_count": null,
   "id": "f66c84e3-e654-49ea-9e39-9c3ce4e17c08",
   "metadata": {},
   "outputs": [],
   "source": []
  },
  {
   "cell_type": "markdown",
   "id": "04f67814-a957-4662-bdee-f5404da9d9f8",
   "metadata": {},
   "source": [
    "Oppgave 7 Sjekk om du finner noen merkelige observasjoner med HB-metoden (Hb), varier parametre C og U."
   ]
  },
  {
   "cell_type": "code",
   "execution_count": null,
   "id": "94cbe06b-22d2-40fd-b7fb-a4316522d438",
   "metadata": {},
   "outputs": [],
   "source": []
  },
  {
   "cell_type": "markdown",
   "id": "b54c4a80-a1ee-4ae5-aa4d-fc9396b22878",
   "metadata": {},
   "source": [
    " Oppgave 8 Test ut kvartilmetoden Quartilemed  forskjellige grenseverdier på forholdet mellom døpte og fødte i en kommune"
   ]
  },
  {
   "cell_type": "code",
   "execution_count": null,
   "id": "77ce417a-7868-4511-a400-519403beb911",
   "metadata": {},
   "outputs": [],
   "source": []
  },
  {
   "cell_type": "markdown",
   "id": "0291e30a-de56-43ca-ab3e-bfa23a146f99",
   "metadata": {},
   "source": [
    "Oppgave 9 Test ut robust regresjon (OutlierRegressionMicro) med forskjellige modeller og grenser på forholde mellom døpte og fødte"
   ]
  },
  {
   "cell_type": "code",
   "execution_count": null,
   "id": "aa367151-4a7c-4dda-a0fc-d0d27d628c8e",
   "metadata": {},
   "outputs": [],
   "source": []
  },
  {
   "cell_type": "markdown",
   "id": "2c835445-b165-4d82-b778-1add03a6a03d",
   "metadata": {},
   "source": [
    "Oppgave 10 Test ut funksjonen Rank2NumVar for å finne innflytelse på totalen for antall døpte"
   ]
  },
  {
   "cell_type": "code",
   "execution_count": null,
   "id": "10aa7dda-afdb-4cb7-b86a-0dd0d3fc90db",
   "metadata": {},
   "outputs": [],
   "source": []
  },
  {
   "cell_type": "markdown",
   "id": "8b91bad1-ff7c-483c-817c-88e837cdd425",
   "metadata": {},
   "source": [
    "Oppgave 11 Test ut funksjonen Diff2NumVar for å finne innflytelse på endringstallet"
   ]
  },
  {
   "cell_type": "code",
   "execution_count": null,
   "id": "3a6b8fef-ddd3-412a-a828-4c6f40d43532",
   "metadata": {},
   "outputs": [],
   "source": []
  },
  {
   "cell_type": "markdown",
   "id": "560305d2-c8b6-40e2-97ea-114179318514",
   "metadata": {},
   "source": [
    "Oppgave 12 Test ut analyse av aggregat med funksjonen AggrSml2NumVar"
   ]
  },
  {
   "cell_type": "code",
   "execution_count": null,
   "id": "e8d27607-d067-4bf8-99d5-474b3904c8aa",
   "metadata": {},
   "outputs": [],
   "source": []
  },
  {
   "cell_type": "code",
   "execution_count": null,
   "id": "eb8a172f-7b56-4982-9123-e027cff43e0e",
   "metadata": {},
   "outputs": [],
   "source": []
  }
 ],
 "metadata": {
  "kernelspec": {
   "display_name": "R",
   "language": "R",
   "name": "ir"
  },
  "language_info": {
   "codemirror_mode": "r",
   "file_extension": ".r",
   "mimetype": "text/x-r-source",
   "name": "R",
   "pygments_lexer": "r",
   "version": "4.1.3"
  }
 },
 "nbformat": 4,
 "nbformat_minor": 5
}
